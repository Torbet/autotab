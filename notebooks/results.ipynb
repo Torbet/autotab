{
 "cells": [
  {
   "cell_type": "code",
   "execution_count": 16,
   "metadata": {},
   "outputs": [],
   "source": [
    "import sys\n",
    "\n",
    "sys.path.append('..')\n",
    "import numpy as np\n",
    "import pandas as pd\n",
    "import ast\n",
    "import matplotlib.pyplot as plt\n",
    "import seaborn as sns"
   ]
  },
  {
   "cell_type": "code",
   "execution_count": 17,
   "metadata": {},
   "outputs": [
    {
     "name": "stdout",
     "output_type": "stream",
     "text": [
      "                   accuracy  precision    recall        f1         wer\n",
      "tiny               0.794844   0.951423  0.948248  0.949651    0.403611\n",
      "tiny_ft            0.808234   0.956592  0.947597  0.951956    1.481541\n",
      "tiny_ss            0.734191   0.923143  0.161783  0.150355   98.054060\n",
      "tiny_ss_ft         0.755931   0.920729  0.178288  0.170569  105.189646\n",
      "tiny_ss_ft_freeze  0.745897   0.930025  0.321666  0.416848   69.541284\n",
      "tiny_ft_freeze     0.799433   0.953935  0.947164  0.950358    1.106143\n"
     ]
    }
   ],
   "source": [
    "names = ['tiny', 'tiny_ft', 'tiny_ss', 'tiny_ss_ft', 'tiny_ss_ft_freeze', 'tiny_ft_freeze']\n",
    "metrics = ['loss', 'accuracy', 'precision', 'recall', 'f1', 'wer']\n",
    "\n",
    "# get results for each model\n",
    "results = {}\n",
    "for name in names:\n",
    "  df = pd.read_csv(f'../results/{name}.csv')\n",
    "  row = df[df['type'] == 'test'].drop(columns=['epoch', 'type', 'loss']).iloc[0].to_dict()\n",
    "  results[name] = row\n",
    "\n",
    "df = pd.DataFrame(results).T\n",
    "print(df)"
   ]
  }
 ],
 "metadata": {
  "kernelspec": {
   "display_name": "Python 3",
   "language": "python",
   "name": "python3"
  },
  "language_info": {
   "codemirror_mode": {
    "name": "ipython",
    "version": 3
   },
   "file_extension": ".py",
   "mimetype": "text/x-python",
   "name": "python",
   "nbconvert_exporter": "python",
   "pygments_lexer": "ipython3",
   "version": "3.12.7"
  }
 },
 "nbformat": 4,
 "nbformat_minor": 2
}
